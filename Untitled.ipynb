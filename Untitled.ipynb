{
 "cells": [
  {
   "cell_type": "code",
   "execution_count": 25,
   "metadata": {},
   "outputs": [],
   "source": [
    "class Food() :\n",
    "    def __init__(self, fruit, color):\n",
    "        self.fruit = fruit\n",
    "        self.color = color\n",
    "    def show(self, f, c):\n",
    "        self.f = f\n",
    "        self.c = c\n",
    "        print(\"f' = \", f)\n",
    "        print(\"c' = \", c)\n",
    "    def show_1(self):\n",
    "        f = self.fruit\n",
    "        c = self.color\n",
    "        print(\"f = \", f)\n",
    "        print(\"c = \", c)\n",
    "\n",
    "\n",
    "    "
   ]
  },
  {
   "cell_type": "code",
   "execution_count": 26,
   "metadata": {},
   "outputs": [
    {
     "name": "stdout",
     "output_type": "stream",
     "text": [
      "f =  apple\n",
      "c =  green\n",
      "f' =  tao\n",
      "c' =  xanh\n"
     ]
    }
   ],
   "source": [
    "food = Food(\"apple\", \"green\")\n",
    "food.show_1()\n",
    "food.show(\"tao\", \"xanh\")"
   ]
  },
  {
   "cell_type": "code",
   "execution_count": null,
   "metadata": {},
   "outputs": [],
   "source": []
  }
 ],
 "metadata": {
  "kernelspec": {
   "display_name": "Python 3",
   "language": "python",
   "name": "python3"
  },
  "language_info": {
   "codemirror_mode": {
    "name": "ipython",
    "version": 3
   },
   "file_extension": ".py",
   "mimetype": "text/x-python",
   "name": "python",
   "nbconvert_exporter": "python",
   "pygments_lexer": "ipython3",
   "version": "3.6.6"
  }
 },
 "nbformat": 4,
 "nbformat_minor": 2
}
